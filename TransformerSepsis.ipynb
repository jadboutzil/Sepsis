{
  "cells": [
    {
      "cell_type": "code",
      "execution_count": null,
      "metadata": {
        "id": "TCAwe0RFfBeT"
      },
      "outputs": [],
      "source": [
        "import numpy as np\n",
        "import tensorflow as tf\n",
        "from tensorflow.keras.models import Model\n",
        "from tensorflow.keras.layers import Input, Dense, GlobalAveragePooling1D, Masking, Concatenate, LayerNormalization, MultiHeadAttention, Dropout\n",
        "\n"
      ]
    },
    {
      "cell_type": "code",
      "execution_count": null,
      "metadata": {
        "id": "9M5e780nlVLr"
      },
      "outputs": [],
      "source": [
        "from tensorflow.keras.utils import to_categorical"
      ]
    },
    {
      "cell_type": "code",
      "execution_count": null,
      "metadata": {
        "id": "NUrtRMP2lYoX"
      },
      "outputs": [],
      "source": [
        "import pandas as pd"
      ]
    },
    {
      "cell_type": "markdown",
      "source": [
        "### Transformer Encoder Architecture\n"
      ],
      "metadata": {
        "id": "xpMm4cUZHwaR"
      }
    },
    {
      "cell_type": "code",
      "execution_count": null,
      "metadata": {
        "id": "860MH_9Ik4Ur"
      },
      "outputs": [],
      "source": [
        "def transformer_encoder(inputs, num_heads, ff_dim, dropout_rate):\n",
        "    # Layer normalization 1\n",
        "    x = LayerNormalization(epsilon=1e-6)(inputs)\n",
        "    # Multi-head attention\n",
        "    attention_output = MultiHeadAttention(num_heads=num_heads, key_dim=ff_dim)(x, x)\n",
        "    # Skip connection\n",
        "    x = x + attention_output\n",
        "    # Dropout\n",
        "    x = Dropout(dropout_rate)(x)\n",
        "    # Layer normalization 2\n",
        "    x = LayerNormalization(epsilon=1e-6)(x)\n",
        "    # Feed forward network\n",
        "    ff_output = Dense(ff_dim, activation=\"relu\")(x)\n",
        "    ff_output = Dense(inputs.shape[-1])(ff_output)\n",
        "    # Second skip connection\n",
        "    output = x + ff_output\n",
        "    # Dropout\n",
        "    output = Dropout(dropout_rate)(output)\n",
        "    return output\n"
      ]
    },
    {
      "cell_type": "markdown",
      "source": [
        "### Full model"
      ],
      "metadata": {
        "id": "hlil2j80H4id"
      }
    },
    {
      "cell_type": "code",
      "execution_count": null,
      "metadata": {
        "id": "C9NwAVprffRF"
      },
      "outputs": [],
      "source": [
        "def create_model(time_series_input_shape, single_meas_input_shape):\n",
        "    # Time series input and Transformer layer\n",
        "    time_series_input = Input(shape=time_series_input_shape)\n",
        "    x = transformer_encoder(time_series_input, num_heads=2, ff_dim=64, dropout_rate=0.1)\n",
        "    x = GlobalAveragePooling1D()(x)\n",
        "    time_series_model = Model(inputs=time_series_input, outputs=x)\n",
        "\n",
        "    # Single measurement input and shallow network\n",
        "    single_meas_input = Input(shape=(single_meas_input_shape,))\n",
        "    mask = Masking(mask_value=np.pi)(single_meas_input)\n",
        "    y = Dense(32, activation='relu')(mask)\n",
        "    single_meas_model = Model(inputs=single_meas_input, outputs=y)\n",
        "\n",
        "    # Combining both models\n",
        "    combined = Concatenate()([time_series_model.output, single_meas_model.output])\n",
        "    z = Dense(64, activation='relu')(combined)\n",
        "    z = Dense(32, activation='relu')(z)\n",
        "    output = Dense(2, activation='softmax')(z)\n",
        "\n",
        "    model = Model(inputs=[time_series_input, single_meas_input], outputs=output)\n",
        "    model.compile(optimizer='adam', loss='categorical_crossentropy', metrics=['accuracy'])\n",
        "    return model"
      ]
    },
    {
      "cell_type": "code",
      "execution_count": null,
      "metadata": {
        "colab": {
          "base_uri": "https://localhost:8080/"
        },
        "id": "VEmaTTkZj7RM",
        "outputId": "5b9ca31e-c791-4c8b-b1f5-c2f1190fc4f8"
      },
      "outputs": [
        {
          "output_type": "stream",
          "name": "stdout",
          "text": [
            "\u001b[?25l     \u001b[90m━━━━━━━━━━━━━━━━━━━━━━━━━━━━━━━━━━━━━━━━\u001b[0m \u001b[32m0.0/46.7 kB\u001b[0m \u001b[31m?\u001b[0m eta \u001b[36m-:--:--\u001b[0m\r\u001b[2K     \u001b[90m━━━━━━━━━━━━━━━━━━━━━━━━━━━━━━━━━━━━━━━━\u001b[0m \u001b[32m46.7/46.7 kB\u001b[0m \u001b[31m1.7 MB/s\u001b[0m eta \u001b[36m0:00:00\u001b[0m\n",
            "\u001b[?25h"
          ]
        }
      ],
      "source": [
        "!pip install -U -q PyDrive2"
      ]
    },
    {
      "cell_type": "code",
      "execution_count": null,
      "metadata": {
        "id": "U-lWdEAgf-hh"
      },
      "outputs": [],
      "source": [
        "from pydrive2.auth import GoogleAuth\n",
        "\n",
        "from pydrive2.drive import GoogleDrive\n",
        "\n",
        "from google.colab import auth\n",
        "\n",
        "from oauth2client.client import GoogleCredentials"
      ]
    },
    {
      "cell_type": "code",
      "execution_count": null,
      "metadata": {
        "id": "wTq4REW0gLfA"
      },
      "outputs": [],
      "source": [
        "auth.authenticate_user()\n",
        "\n",
        "gauth = GoogleAuth()\n",
        "\n",
        "gauth.credentials = GoogleCredentials.get_application_default()\n",
        "\n",
        "drive = GoogleDrive(gauth)"
      ]
    },
    {
      "cell_type": "code",
      "execution_count": null,
      "metadata": {
        "id": "ZM0UlL3QipUJ"
      },
      "outputs": [],
      "source": [
        "#https://drive.google.com/file/d/1guMuEmfLWFgHwXQTDVXkvTKVYgUh1fzc/view?usp=drive_link\n",
        "fileDownloaded = drive.CreateFile({'id':'1guMuEmfLWFgHwXQTDVXkvTKVYgUh1fzc'})"
      ]
    },
    {
      "cell_type": "code",
      "execution_count": null,
      "metadata": {
        "id": "YI1yIKq6jFub"
      },
      "outputs": [],
      "source": [
        "fileDownloaded.GetContentFile('train2.pkl')"
      ]
    },
    {
      "cell_type": "code",
      "execution_count": null,
      "metadata": {
        "id": "87bEgt4UjVcB"
      },
      "outputs": [],
      "source": [
        "#https://drive.google.com/file/d/1QhtEmzasLyj14y55B7UiKNFuIJZVgdwq/view?usp=drive_link\n",
        "fileDownloadedbis = drive.CreateFile({'id':'1QhtEmzasLyj14y55B7UiKNFuIJZVgdwq'})\n",
        "fileDownloadedbis.GetContentFile('test2.pkl')"
      ]
    },
    {
      "cell_type": "code",
      "source": [
        "# Assume input shapes are known\n",
        "model = create_model((10, 5), 33)  # Adjust these shapes as necessary\n",
        "print(model.summary())"
      ],
      "metadata": {
        "id": "47ApS0RwOS9h",
        "outputId": "6a7b65f1-cb39-4314-ff20-1d04baf59a01",
        "colab": {
          "base_uri": "https://localhost:8080/"
        }
      },
      "execution_count": null,
      "outputs": [
        {
          "output_type": "stream",
          "name": "stdout",
          "text": [
            "Model: \"model_2\"\n",
            "__________________________________________________________________________________________________\n",
            " Layer (type)                Output Shape                 Param #   Connected to                  \n",
            "==================================================================================================\n",
            " input_1 (InputLayer)        [(None, 10, 5)]              0         []                            \n",
            "                                                                                                  \n",
            " layer_normalization (Layer  (None, 10, 5)                10        ['input_1[0][0]']             \n",
            " Normalization)                                                                                   \n",
            "                                                                                                  \n",
            " multi_head_attention (Mult  (None, 10, 5)                2949      ['layer_normalization[0][0]', \n",
            " iHeadAttention)                                                     'layer_normalization[0][0]'] \n",
            "                                                                                                  \n",
            " tf.__operators__.add (TFOp  (None, 10, 5)                0         ['layer_normalization[0][0]', \n",
            " Lambda)                                                             'multi_head_attention[0][0]']\n",
            "                                                                                                  \n",
            " dropout (Dropout)           (None, 10, 5)                0         ['tf.__operators__.add[0][0]']\n",
            "                                                                                                  \n",
            " layer_normalization_1 (Lay  (None, 10, 5)                10        ['dropout[0][0]']             \n",
            " erNormalization)                                                                                 \n",
            "                                                                                                  \n",
            " dense (Dense)               (None, 10, 64)               384       ['layer_normalization_1[0][0]'\n",
            "                                                                    ]                             \n",
            "                                                                                                  \n",
            " dense_1 (Dense)             (None, 10, 5)                325       ['dense[0][0]']               \n",
            "                                                                                                  \n",
            " tf.__operators__.add_1 (TF  (None, 10, 5)                0         ['layer_normalization_1[0][0]'\n",
            " OpLambda)                                                          , 'dense_1[0][0]']            \n",
            "                                                                                                  \n",
            " input_2 (InputLayer)        [(None, 33)]                 0         []                            \n",
            "                                                                                                  \n",
            " dropout_1 (Dropout)         (None, 10, 5)                0         ['tf.__operators__.add_1[0][0]\n",
            "                                                                    ']                            \n",
            "                                                                                                  \n",
            " masking (Masking)           (None, 33)                   0         ['input_2[0][0]']             \n",
            "                                                                                                  \n",
            " global_average_pooling1d (  (None, 5)                    0         ['dropout_1[0][0]']           \n",
            " GlobalAveragePooling1D)                                                                          \n",
            "                                                                                                  \n",
            " dense_2 (Dense)             (None, 32)                   1088      ['masking[0][0]']             \n",
            "                                                                                                  \n",
            " concatenate (Concatenate)   (None, 37)                   0         ['global_average_pooling1d[0][\n",
            "                                                                    0]',                          \n",
            "                                                                     'dense_2[0][0]']             \n",
            "                                                                                                  \n",
            " dense_3 (Dense)             (None, 64)                   2432      ['concatenate[0][0]']         \n",
            "                                                                                                  \n",
            " dense_4 (Dense)             (None, 32)                   2080      ['dense_3[0][0]']             \n",
            "                                                                                                  \n",
            " dense_5 (Dense)             (None, 2)                    66        ['dense_4[0][0]']             \n",
            "                                                                                                  \n",
            "==================================================================================================\n",
            "Total params: 9344 (36.50 KB)\n",
            "Trainable params: 9344 (36.50 KB)\n",
            "Non-trainable params: 0 (0.00 Byte)\n",
            "__________________________________________________________________________________________________\n",
            "None\n"
          ]
        }
      ]
    },
    {
      "cell_type": "code",
      "execution_count": null,
      "metadata": {
        "id": "6Gl1SCmglDR6"
      },
      "outputs": [],
      "source": [
        "\n",
        "\n",
        "# Data Preparation\n",
        "train = pd.read_pickle('train2.pkl').reset_index(drop=True)\n",
        "N = len(train)\n",
        "train = train.sample(frac=1).reset_index(drop=True)\n",
        "val = train[:int(N*0.2)]\n",
        "train = train[int(N*0.2):]\n",
        "\n",
        "# Prepare Training Data\n",
        "y_train = to_categorical(np.asarray(list(train['label'])))\n",
        "X_train_cont = np.asarray(list(train['X_cont'].values))\n",
        "X_train_cat = train.drop(['X_cont', 'label'], axis=1)\n",
        "X_train_cat[X_train_cat.isna()] = np.pi\n",
        "X_train_cat = np.asarray(list(X_train_cat.values))\n",
        "\n",
        "# Prepare Validation Data\n",
        "y_val = to_categorical(np.asarray(list(val['label'])))\n",
        "X_val_cont = np.asarray(list(val['X_cont'].values))\n",
        "X_val_cat = val.drop(['X_cont', 'label'], axis=1)\n",
        "X_val_cat[X_val_cat.isna()] = np.pi\n",
        "X_val_cat = np.asarray(list(X_val_cat.values))"
      ]
    },
    {
      "cell_type": "code",
      "execution_count": null,
      "metadata": {
        "colab": {
          "base_uri": "https://localhost:8080/"
        },
        "id": "J3xlTSNDmy_C",
        "outputId": "352b8f71-66e3-4432-e4fe-ecdfb20694eb"
      },
      "outputs": [
        {
          "output_type": "stream",
          "name": "stdout",
          "text": [
            "(1801532, 10, 5)\n",
            "(1801532, 33)\n"
          ]
        }
      ],
      "source": [
        "print(X_train_cont.shape)  # Should be something like (num_samples, 10, 5)\n",
        "print(X_train_cat.shape)   # Should be (num_samples, number_of_features)\n"
      ]
    },
    {
      "cell_type": "code",
      "execution_count": null,
      "metadata": {
        "colab": {
          "base_uri": "https://localhost:8080/"
        },
        "id": "C04BNJq2lfiS",
        "outputId": "8def37c1-d5c6-4ee9-f9f3-976fade665b4"
      },
      "outputs": [
        {
          "name": "stdout",
          "output_type": "stream",
          "text": [
            "Epoch 1/10\n",
            "28149/28149 [==============================] - 319s 11ms/step - loss: 0.0810 - accuracy: 0.9822 - val_loss: 0.0778 - val_accuracy: 0.9826\n",
            "Epoch 2/10\n",
            "28149/28149 [==============================] - 294s 10ms/step - loss: 0.0780 - accuracy: 0.9823 - val_loss: 0.0763 - val_accuracy: 0.9826\n",
            "Epoch 3/10\n",
            "28149/28149 [==============================] - 309s 11ms/step - loss: 0.0763 - accuracy: 0.9824 - val_loss: 0.0748 - val_accuracy: 0.9827\n",
            "Epoch 4/10\n",
            "28149/28149 [==============================] - 294s 10ms/step - loss: 0.0750 - accuracy: 0.9825 - val_loss: 0.0739 - val_accuracy: 0.9827\n",
            "Epoch 5/10\n",
            "28149/28149 [==============================] - 307s 11ms/step - loss: 0.0738 - accuracy: 0.9825 - val_loss: 0.0732 - val_accuracy: 0.9829\n",
            "Epoch 6/10\n",
            "28149/28149 [==============================] - 304s 11ms/step - loss: 0.0729 - accuracy: 0.9826 - val_loss: 0.0725 - val_accuracy: 0.9829\n",
            "Epoch 7/10\n",
            "28149/28149 [==============================] - 305s 11ms/step - loss: 0.0721 - accuracy: 0.9826 - val_loss: 0.0715 - val_accuracy: 0.9829\n",
            "Epoch 8/10\n",
            "28149/28149 [==============================] - 295s 10ms/step - loss: 0.0714 - accuracy: 0.9827 - val_loss: 0.0715 - val_accuracy: 0.9829\n",
            "Epoch 9/10\n",
            "28149/28149 [==============================] - 306s 11ms/step - loss: 0.0708 - accuracy: 0.9828 - val_loss: 0.0712 - val_accuracy: 0.9830\n",
            "Epoch 10/10\n",
            "28149/28149 [==============================] - 306s 11ms/step - loss: 0.0704 - accuracy: 0.9829 - val_loss: 0.0708 - val_accuracy: 0.9832\n"
          ]
        },
        {
          "data": {
            "text/plain": [
              "<keras.src.callbacks.History at 0x79fa995eff40>"
            ]
          },
          "execution_count": 13,
          "metadata": {},
          "output_type": "execute_result"
        }
      ],
      "source": [
        "# Train the Model\n",
        "model.fit([X_train_cont, X_train_cat], y_train, validation_data=([X_val_cont, X_val_cat], y_val), epochs=10, batch_size=64)"
      ]
    },
    {
      "cell_type": "code",
      "execution_count": null,
      "metadata": {
        "colab": {
          "base_uri": "https://localhost:8080/"
        },
        "id": "eTRP9_JuLzMp",
        "outputId": "10dcf92d-da63-40ae-eea4-ea00d906b616"
      },
      "outputs": [
        {
          "name": "stdout",
          "output_type": "stream",
          "text": [
            "12554/12554 [==============================] - 59s 5ms/step - loss: 0.0888 - accuracy: 0.9826\n",
            "Test Loss: 0.08879271894693375, Test Accuracy: 0.9825796484947205\n"
          ]
        }
      ],
      "source": [
        "# Load and Prepare Test Data\n",
        "test = pd.read_pickle('test2.pkl')\n",
        "y_test = to_categorical(np.asarray(list(test['label'])))\n",
        "X_test_cont = np.asarray(list(test['X_cont'].values))\n",
        "X_test_cat = test.drop(['X_cont', 'label'], axis=1)\n",
        "X_test_cat[X_test_cat.isna()] = np.pi\n",
        "X_test_cat = np.asarray(list(X_test_cat.values))\n",
        "\n",
        "# Evaluate the Model\n",
        "evaluation = model.evaluate([X_test_cont, X_test_cat], y_test)\n",
        "print(f'Test Loss: {evaluation[0]}, Test Accuracy: {evaluation[1]}')"
      ]
    },
    {
      "cell_type": "code",
      "execution_count": null,
      "metadata": {
        "id": "f19qs0sqM6r9"
      },
      "outputs": [],
      "source": [
        "import matplotlib.pyplot as plt"
      ]
    },
    {
      "cell_type": "code",
      "execution_count": null,
      "metadata": {
        "id": "HwEHfrrFNB4j"
      },
      "outputs": [],
      "source": [
        "from sklearn.metrics import auc"
      ]
    },
    {
      "cell_type": "code",
      "execution_count": null,
      "metadata": {
        "id": "Zb54C0nsNrjE"
      },
      "outputs": [],
      "source": [
        "from sklearn.metrics import confusion_matrix"
      ]
    },
    {
      "cell_type": "code",
      "execution_count": null,
      "metadata": {
        "id": "2xc31Ul-MWOh"
      },
      "outputs": [],
      "source": [
        "def roc(predictions, true, filename):\n",
        "    predictions = predictions.flatten()\n",
        "    true = true.flatten()\n",
        "\n",
        "    thresh_vals = np.linspace(np.min(predictions), np.max(predictions), 50)\n",
        "    results = []\n",
        "    for thresh in thresh_vals:\n",
        "        tmp_predictions = (predictions > thresh).astype(int)\n",
        "        tn, fp, fn, tp = confusion_matrix(true, tmp_predictions).ravel()\n",
        "        tpr = tp/(tp+fn)\n",
        "        fpr = fp/(tn+fp)\n",
        "        acc = (tp+tn)/(tn+fp+fn+tp)\n",
        "\n",
        "        tmp_dict = {'acc': acc, 'tpr': tpr, 'fpr': fpr, 'thresh': thresh}\n",
        "        results.append(tmp_dict)\n",
        "\n",
        "    results = pd.DataFrame(results)\n",
        "    results = results.sort_values(by='thresh', ascending=False)\n",
        "\n",
        "    #calculate the AUC\n",
        "    AUC = auc(results['fpr'].values, results['tpr'].values)\n",
        "\n",
        "    plt.figure(figsize=(10,6))\n",
        "    plt.plot(results['fpr'], results['tpr'], '*-')\n",
        "    plt.xlabel('FPR')\n",
        "    plt.ylabel('TPR')\n",
        "    plt.title('ROC\\nAUC=%.2f' % AUC)\n",
        "    plt.tight_layout()\n",
        "    #plt.savefig('plots/ROC_%s.png' % filename, dpi=250)\n",
        "    plt.show()\n",
        "\n",
        "    results = results.sort_values(by='acc', ascending=False)\n",
        "    final_thresh = results.head(1)['thresh'].values[0]\n",
        "\n",
        "    return results, final_thresh"
      ]
    },
    {
      "cell_type": "code",
      "execution_count": null,
      "metadata": {
        "colab": {
          "background_save": true,
          "base_uri": "https://localhost:8080/"
        },
        "id": "pgM7bZYJMtH2",
        "outputId": "d1eac1a2-982e-4d68-a8f3-e5777b13db5f"
      },
      "outputs": [
        {
          "name": "stdout",
          "output_type": "stream",
          "text": [
            "14075/14075 [==============================] - 57s 4ms/step\n"
          ]
        },
        {
          "data": {
            "image/png": "[encoded data removed]",
            "text/plain": [
              "<Figure size 1000x600 with 1 Axes>"
            ]
          },
          "metadata": {},
          "output_type": "display_data"
        }
      ],
      "source": [
        "predictions = model.predict([X_val_cont, X_val_cat])\n",
        "\n",
        "results_df, thresh_final = roc(predictions[:,1].flatten(), y_val[:,1].flatten(), 'val')\n",
        "results_df = results_df.sort_values(by='fpr')"
      ]
    }
  ],
  "metadata": {
    "colab": {
      "provenance": []
    },
    "kernelspec": {
      "display_name": "Python 3",
      "name": "python3"
    },
    "language_info": {
      "name": "python"
    }
  },
  "nbformat": 4,
  "nbformat_minor": 0
}